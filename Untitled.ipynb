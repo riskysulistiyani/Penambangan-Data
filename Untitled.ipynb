{
 "cells": [
  {
   "cell_type": "code",
   "execution_count": 1,
   "metadata": {},
   "outputs": [
    {
     "data": {
      "text/html": [
       "<style  type=\"text/css\" >\n",
       "</style><table id=\"T_cbb2a4e4_cfc0_11e9_982f_3065ec4283e3\" ><thead>    <tr>        <th class=\"col_heading level0 col0\" >stats</th>        <th class=\"col_heading level0 col1\" >X1</th>        <th class=\"col_heading level0 col2\" >X2</th>        <th class=\"col_heading level0 col3\" >X3</th>        <th class=\"col_heading level0 col4\" >X4</th>    </tr></thead><tbody>\n",
       "                <tr>\n",
       "                                <td id=\"T_cbb2a4e4_cfc0_11e9_982f_3065ec4283e3row0_col0\" class=\"data row0 col0\" >min</td>\n",
       "                        <td id=\"T_cbb2a4e4_cfc0_11e9_982f_3065ec4283e3row0_col1\" class=\"data row0 col1\" >50</td>\n",
       "                        <td id=\"T_cbb2a4e4_cfc0_11e9_982f_3065ec4283e3row0_col2\" class=\"data row0 col2\" >60</td>\n",
       "                        <td id=\"T_cbb2a4e4_cfc0_11e9_982f_3065ec4283e3row0_col3\" class=\"data row0 col3\" >70</td>\n",
       "                        <td id=\"T_cbb2a4e4_cfc0_11e9_982f_3065ec4283e3row0_col4\" class=\"data row0 col4\" >80</td>\n",
       "            </tr>\n",
       "            <tr>\n",
       "                                <td id=\"T_cbb2a4e4_cfc0_11e9_982f_3065ec4283e3row1_col0\" class=\"data row1 col0\" >max</td>\n",
       "                        <td id=\"T_cbb2a4e4_cfc0_11e9_982f_3065ec4283e3row1_col1\" class=\"data row1 col1\" >90</td>\n",
       "                        <td id=\"T_cbb2a4e4_cfc0_11e9_982f_3065ec4283e3row1_col2\" class=\"data row1 col2\" >90</td>\n",
       "                        <td id=\"T_cbb2a4e4_cfc0_11e9_982f_3065ec4283e3row1_col3\" class=\"data row1 col3\" >90</td>\n",
       "                        <td id=\"T_cbb2a4e4_cfc0_11e9_982f_3065ec4283e3row1_col4\" class=\"data row1 col4\" >90</td>\n",
       "            </tr>\n",
       "            <tr>\n",
       "                                <td id=\"T_cbb2a4e4_cfc0_11e9_982f_3065ec4283e3row2_col0\" class=\"data row2 col0\" >Mean</td>\n",
       "                        <td id=\"T_cbb2a4e4_cfc0_11e9_982f_3065ec4283e3row2_col1\" class=\"data row2 col1\" >70.85</td>\n",
       "                        <td id=\"T_cbb2a4e4_cfc0_11e9_982f_3065ec4283e3row2_col2\" class=\"data row2 col2\" >73.11</td>\n",
       "                        <td id=\"T_cbb2a4e4_cfc0_11e9_982f_3065ec4283e3row2_col3\" class=\"data row2 col3\" >80.84</td>\n",
       "                        <td id=\"T_cbb2a4e4_cfc0_11e9_982f_3065ec4283e3row2_col4\" class=\"data row2 col4\" >85.61</td>\n",
       "            </tr>\n",
       "            <tr>\n",
       "                                <td id=\"T_cbb2a4e4_cfc0_11e9_982f_3065ec4283e3row3_col0\" class=\"data row3 col0\" >Standart Deviasi</td>\n",
       "                        <td id=\"T_cbb2a4e4_cfc0_11e9_982f_3065ec4283e3row3_col1\" class=\"data row3 col1\" >11.94</td>\n",
       "                        <td id=\"T_cbb2a4e4_cfc0_11e9_982f_3065ec4283e3row3_col2\" class=\"data row3 col2\" >8.66</td>\n",
       "                        <td id=\"T_cbb2a4e4_cfc0_11e9_982f_3065ec4283e3row3_col3\" class=\"data row3 col3\" >6.28</td>\n",
       "                        <td id=\"T_cbb2a4e4_cfc0_11e9_982f_3065ec4283e3row3_col4\" class=\"data row3 col4\" >3.22</td>\n",
       "            </tr>\n",
       "            <tr>\n",
       "                                <td id=\"T_cbb2a4e4_cfc0_11e9_982f_3065ec4283e3row4_col0\" class=\"data row4 col0\" >Variasi</td>\n",
       "                        <td id=\"T_cbb2a4e4_cfc0_11e9_982f_3065ec4283e3row4_col1\" class=\"data row4 col1\" >142.47</td>\n",
       "                        <td id=\"T_cbb2a4e4_cfc0_11e9_982f_3065ec4283e3row4_col2\" class=\"data row4 col2\" >74.97</td>\n",
       "                        <td id=\"T_cbb2a4e4_cfc0_11e9_982f_3065ec4283e3row4_col3\" class=\"data row4 col3\" >39.45</td>\n",
       "                        <td id=\"T_cbb2a4e4_cfc0_11e9_982f_3065ec4283e3row4_col4\" class=\"data row4 col4\" >10.34</td>\n",
       "            </tr>\n",
       "            <tr>\n",
       "                                <td id=\"T_cbb2a4e4_cfc0_11e9_982f_3065ec4283e3row5_col0\" class=\"data row5 col0\" >Skewnes</td>\n",
       "                        <td id=\"T_cbb2a4e4_cfc0_11e9_982f_3065ec4283e3row5_col1\" class=\"data row5 col1\" >-0.11</td>\n",
       "                        <td id=\"T_cbb2a4e4_cfc0_11e9_982f_3065ec4283e3row5_col2\" class=\"data row5 col2\" >0.1</td>\n",
       "                        <td id=\"T_cbb2a4e4_cfc0_11e9_982f_3065ec4283e3row5_col3\" class=\"data row5 col3\" >-0.17</td>\n",
       "                        <td id=\"T_cbb2a4e4_cfc0_11e9_982f_3065ec4283e3row5_col4\" class=\"data row5 col4\" >-0.23</td>\n",
       "            </tr>\n",
       "            <tr>\n",
       "                                <td id=\"T_cbb2a4e4_cfc0_11e9_982f_3065ec4283e3row6_col0\" class=\"data row6 col0\" >Quartile 1</td>\n",
       "                        <td id=\"T_cbb2a4e4_cfc0_11e9_982f_3065ec4283e3row6_col1\" class=\"data row6 col1\" >62</td>\n",
       "                        <td id=\"T_cbb2a4e4_cfc0_11e9_982f_3065ec4283e3row6_col2\" class=\"data row6 col2\" >65</td>\n",
       "                        <td id=\"T_cbb2a4e4_cfc0_11e9_982f_3065ec4283e3row6_col3\" class=\"data row6 col3\" >75</td>\n",
       "                        <td id=\"T_cbb2a4e4_cfc0_11e9_982f_3065ec4283e3row6_col4\" class=\"data row6 col4\" >83</td>\n",
       "            </tr>\n",
       "            <tr>\n",
       "                                <td id=\"T_cbb2a4e4_cfc0_11e9_982f_3065ec4283e3row7_col0\" class=\"data row7 col0\" >Quartile 2</td>\n",
       "                        <td id=\"T_cbb2a4e4_cfc0_11e9_982f_3065ec4283e3row7_col1\" class=\"data row7 col1\" >72</td>\n",
       "                        <td id=\"T_cbb2a4e4_cfc0_11e9_982f_3065ec4283e3row7_col2\" class=\"data row7 col2\" >73.5</td>\n",
       "                        <td id=\"T_cbb2a4e4_cfc0_11e9_982f_3065ec4283e3row7_col3\" class=\"data row7 col3\" >80.5</td>\n",
       "                        <td id=\"T_cbb2a4e4_cfc0_11e9_982f_3065ec4283e3row7_col4\" class=\"data row7 col4\" >86</td>\n",
       "            </tr>\n",
       "            <tr>\n",
       "                                <td id=\"T_cbb2a4e4_cfc0_11e9_982f_3065ec4283e3row8_col0\" class=\"data row8 col0\" >Quartile 3</td>\n",
       "                        <td id=\"T_cbb2a4e4_cfc0_11e9_982f_3065ec4283e3row8_col1\" class=\"data row8 col1\" >81</td>\n",
       "                        <td id=\"T_cbb2a4e4_cfc0_11e9_982f_3065ec4283e3row8_col2\" class=\"data row8 col2\" >79</td>\n",
       "                        <td id=\"T_cbb2a4e4_cfc0_11e9_982f_3065ec4283e3row8_col3\" class=\"data row8 col3\" >86.25</td>\n",
       "                        <td id=\"T_cbb2a4e4_cfc0_11e9_982f_3065ec4283e3row8_col4\" class=\"data row8 col4\" >89</td>\n",
       "            </tr>\n",
       "            <tr>\n",
       "                                <td id=\"T_cbb2a4e4_cfc0_11e9_982f_3065ec4283e3row9_col0\" class=\"data row9 col0\" >Median</td>\n",
       "                        <td id=\"T_cbb2a4e4_cfc0_11e9_982f_3065ec4283e3row9_col1\" class=\"data row9 col1\" >70.85</td>\n",
       "                        <td id=\"T_cbb2a4e4_cfc0_11e9_982f_3065ec4283e3row9_col2\" class=\"data row9 col2\" >73.11</td>\n",
       "                        <td id=\"T_cbb2a4e4_cfc0_11e9_982f_3065ec4283e3row9_col3\" class=\"data row9 col3\" >80.84</td>\n",
       "                        <td id=\"T_cbb2a4e4_cfc0_11e9_982f_3065ec4283e3row9_col4\" class=\"data row9 col4\" >85.61</td>\n",
       "            </tr>\n",
       "            <tr>\n",
       "                                <td id=\"T_cbb2a4e4_cfc0_11e9_982f_3065ec4283e3row10_col0\" class=\"data row10 col0\" >Modus</td>\n",
       "                        <td id=\"T_cbb2a4e4_cfc0_11e9_982f_3065ec4283e3row10_col1\" class=\"data row10 col1\" >85</td>\n",
       "                        <td id=\"T_cbb2a4e4_cfc0_11e9_982f_3065ec4283e3row10_col2\" class=\"data row10 col2\" >77</td>\n",
       "                        <td id=\"T_cbb2a4e4_cfc0_11e9_982f_3065ec4283e3row10_col3\" class=\"data row10 col3\" >75</td>\n",
       "                        <td id=\"T_cbb2a4e4_cfc0_11e9_982f_3065ec4283e3row10_col4\" class=\"data row10 col4\" >86</td>\n",
       "            </tr>\n",
       "    </tbody></table>"
      ],
      "text/plain": [
       "<pandas.io.formats.style.Styler at 0x20c2476ca90>"
      ]
     },
     "execution_count": 1,
     "metadata": {},
     "output_type": "execute_result"
    }
   ],
   "source": [
    "import pandas as pd\n",
    "from scipy import stats\n",
    "df = pd.read_csv('1.csv',sep=\";\")\n",
    "data = {\"stats\":['min','max','Mean','Standart Deviasi', 'Variasi','Skewnes',\n",
    "                 'Quartile 1','Quartile 2', 'Quartile 3', 'Median','Modus']}\n",
    "for i in df.columns:\n",
    "    data[i] = [df[i].min(),df[i].max(),df[i].mean(),round(df[i].std(),2), round(df[i].var(),2), round(df[i].skew(),2), \n",
    "               df[i].quantile(0.25),df[i].quantile(0.5),df[i].quantile(0.75), df[i].mean(), stats.mode(df[i]).mode[0]]\n",
    "kd= pd.DataFrame(data)\n",
    "kd.style.hide_index()"
   ]
  },
  {
   "cell_type": "code",
   "execution_count": null,
   "metadata": {},
   "outputs": [],
   "source": []
  }
 ],
 "metadata": {
  "kernelspec": {
   "display_name": "Python 3",
   "language": "python",
   "name": "python3"
  },
  "language_info": {
   "codemirror_mode": {
    "name": "ipython",
    "version": 3
   },
   "file_extension": ".py",
   "mimetype": "text/x-python",
   "name": "python",
   "nbconvert_exporter": "python",
   "pygments_lexer": "ipython3",
   "version": "3.7.3"
  }
 },
 "nbformat": 4,
 "nbformat_minor": 2
}
